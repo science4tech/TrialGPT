{
 "cells": [
  {
   "cell_type": "markdown",
   "metadata": {},
   "source": [
    "# Objetivos\n",
    "\n",
    "Con este notebook se pretende crear distintos archivos necesarios para ejecutar las distintas pipelines definidas en el repositorio de TrialGPT, en el proceso de *retrieval*, además de obtener de forma interna la historia clínica de los pacientes, que las podemos obtener en base a los formularios de éstos en MatchTrial recogidos en la base de datos en Metabase.\n",
    "\n",
    "Por tanto, tenemos distintos hitos en este notebook:\n",
    "\n",
    "- Hito 1. Obtener historias clínicas de pacientes en el formato adecuado en JSON\n",
    "- Hito 2. Ejecución de la pipeline de ```keywords_generation.py``` y obtención de las keywords\n",
    "- Hito 3. Creación de ```queries.jsonl```\n",
    "- Hito 4. Creación de ```id2queries.json```\n",
    "- Hito 5. Descarga de ```trial_info.json```\n",
    "- Hito 6. Creación de ```corpus.jsonl```\n",
    "- Hito 7. Creación de ```test.tsv```\n",
    "\n"
   ]
  },
  {
   "cell_type": "markdown",
   "metadata": {},
   "source": [
    "# Setup"
   ]
  },
  {
   "cell_type": "code",
   "execution_count": 2,
   "metadata": {},
   "outputs": [],
   "source": [
    "import json\n",
    "import pandas as pd\n",
    "from collections import defaultdict\n",
    "import jsonlines"
   ]
  },
  {
   "cell_type": "markdown",
   "metadata": {},
   "source": [
    "# Hito 1"
   ]
  },
  {
   "cell_type": "markdown",
   "metadata": {},
   "source": [
    "## Descarga de los diagnóstico y mapeao ID Questions de los diagnósticos a las preguntas reales"
   ]
  },
  {
   "cell_type": "code",
   "execution_count": 3,
   "metadata": {},
   "outputs": [],
   "source": [
    "with open('/Users/agustinlopez/Repositories/TrialGPT/dataset/metabase.json', 'r') as file:\n",
    "    json2 = json.load(file)"
   ]
  },
  {
   "cell_type": "code",
   "execution_count": 4,
   "metadata": {},
   "outputs": [
    {
     "name": "stdout",
     "output_type": "stream",
     "text": [
      "Estructura del JSON original: <class 'list'>\n",
      "Número de objetos en la lista: 100\n",
      "Ejemplo del primer objeto: {'Question 535__responseValue': '0-4 weeks', 'province': 'Asturias', 'Question 546__responseValue': 'No', 'Question 529__responseValue': 'Yes', 'cacheStatus': 2, 'country': 'SPAIN', 'Question 537__responseValue': 'Yes', 'Question 553__responseValue': 'No', 'city': 'Santullano', 'Question 547__responseValue': \"Basedow's disease (Grave's disase)\", 'birthday': '1972-01-01', 'lng': -5.7821242, 'gender': 'Woman', 'userProfile': 'Patient', 'Question 549__responseValue': 'Severe respiratory disease and/or infection', 'count': 1, 'userId': 906, 'Question 544__responseValue': 'I have not received any', 'Question 533__responseValue': 'Durvalumab', 'dianosticId': 2132, 'Question 527__responseValue': 'Yes', 'Question 531__responseValue': 'Yes', 'diagnosticCreatedDate': '2021-02-04', 'Question 543__responseValue': 'Yes', 'Question 536__responseValue': 'Yes', 'Question 539__responseValue': 'Yes', 'Question 548__responseValue': 'I do not take any of the following', 'Question 530__responseValue': 'More than one year ago', 'Question 528__responseValue': 'I have participated more than 4 weeks ago', 'Question 552__responseValue': 'ALT (SGPT)', 'lat': 43.226184, 'Question 554__responseValue': 'I have not been diagnosed with any', 'Question 550__responseValue': 'No', 'Question 545__responseValue': \"My daily activity is restricted and I spend some hours during the day in bed but I'm capable of all selfcare\", 'Question 551__responseValue': 'Yes', 'Question 534__responseValue': None, 'Question 567__responseValue': 'Neuroendocrine', 'completePercent': 91, 'Question 541__responseValue': 'No', 'userCreatedDate': '2021-02-04'}\n"
     ]
    }
   ],
   "source": [
    "print(\"Estructura del JSON original:\", type(json2))\n",
    "if isinstance(json2, list):\n",
    "    print(\"Número de objetos en la lista:\", len(json2))\n",
    "    print(\"Ejemplo del primer objeto:\", json2[0])"
   ]
  },
  {
   "cell_type": "code",
   "execution_count": 5,
   "metadata": {},
   "outputs": [],
   "source": [
    "mapeo = {\n",
    "    \"Question 567__responseValue\": \"Tumor type\",\n",
    "    \"Question 545__responseValue\": \"ECOG\",\n",
    "    \"Question 554__responseValue\": \"Mutation\",\n",
    "    \"Question 544__responseValue\": \"How many treatments in the metastasic setting have you received?\",\n",
    "    \"Question 533__responseValue\": \"Of the treatments that you have received, please mark all the ones that you remember\",\n",
    "    \"Question 528__responseValue\": 'Do you remember when did you participate in a clinical trial?',\n",
    "    \"Question 527__responseValue\": 'Have you ever participated in a clinical trial?',\n",
    "    \"Question 529__responseValue\": 'Was it a clinical trial about cancer?',\n",
    "    \"Question 530__responseValue\": 'When was it diagnosed?',\n",
    "    \"Question 531__responseValue\": \"Have you had any antitumor treatments?\",\n",
    "    \"Question 534__responseValue\": 'Have you relapsed after being treated?',\n",
    "    \"Question 535__responseValue\": 'When did you receive the last treatment?',\n",
    "    \"Question 536__responseValue\": 'Has the diagnosed cancer spread to the lymph nodes?',\n",
    "    \"Question 537__responseValue\": 'Has developed any metastasis?',\n",
    "    \"Question 543__responseValue\": 'Has the metastasis spread to the liver?',\n",
    "    \"Question 541__responseValue\": 'Has the metastasis spread to the bones?',\n",
    "    \"Question 539__responseValue\": 'Have you been diagnosed with a brain metastasis?',\n",
    "    \"Question 546__responseValue\": 'Have you previously suffered another type of cancer?',\n",
    "    \"Question 547__responseValue\": 'Currently, do you encounter any of the following diseases or conditions?',\n",
    "    \"Question 548__responseValue\": 'Do you remember if you are taking any of the following medications?',\n",
    "    \"Question 549__responseValue\": 'Have you previously suffered any of the following diseases?',\n",
    "    \"Question 550__responseValue\": 'In the last four weeks, have you had any major surgery or have you received a transplant?',\n",
    "    \"Question 551__responseValue\": 'Have you had a blood test done within the last four weeks?',\n",
    "    \"Question 552__responseValue\": 'Are the blood test values normal? (Mark those that have some type of mark or annotation)',\n",
    "    \"Question 553__responseValue\": 'Have you been performed a biopsy of the diagnosed tumor?'\n",
    "}"
   ]
  },
  {
   "cell_type": "code",
   "execution_count": 6,
   "metadata": {},
   "outputs": [
    {
     "data": {
      "text/plain": [
       "dict_values(['Tumor type', 'ECOG', 'Mutation', 'How many treatments in the metastasic setting have you received?', 'Of the treatments that you have received, please mark all the ones that you remember', 'Do you remember when did you participate in a clinical trial?', 'Have you ever participated in a clinical trial?', 'Was it a clinical trial about cancer?', 'When was it diagnosed?', 'Have you had any antitumor treatments?', 'Have you relapsed after being treated?', 'When did you receive the last treatment?', 'Has the diagnosed cancer spread to the lymph nodes?', 'Has developed any metastasis?', 'Has the metastasis spread to the liver?', 'Has the metastasis spread to the bones?', 'Have you been diagnosed with a brain metastasis?', 'Have you previously suffered another type of cancer?', 'Currently, do you encounter any of the following diseases or conditions?', 'Do you remember if you are taking any of the following medications?', 'Have you previously suffered any of the following diseases?', 'In the last four weeks, have you had any major surgery or have you received a transplant?', 'Have you had a blood test done within the last four weeks?', 'Are the blood test values normal? (Mark those that have some type of mark or annotation)', 'Have you been performed a biopsy of the diagnosed tumor?'])"
      ]
     },
     "execution_count": 6,
     "metadata": {},
     "output_type": "execute_result"
    }
   ],
   "source": [
    "mapeo.values()"
   ]
  },
  {
   "cell_type": "code",
   "execution_count": 7,
   "metadata": {},
   "outputs": [],
   "source": [
    "nuevo_json = []\n",
    "for obj in json2:\n",
    "    nuevo_obj = {}\n",
    "    for key, value in obj.items():\n",
    "        question_number = key.split('__')[0]  # Esto separa la clave en base al '__'\n",
    "        nuevo_key = mapeo.get(question_number + '__responseValue', key)\n",
    "        nuevo_obj[nuevo_key] = value\n",
    "    nuevo_json.append(nuevo_obj)"
   ]
  },
  {
   "cell_type": "code",
   "execution_count": 8,
   "metadata": {},
   "outputs": [
    {
     "name": "stdout",
     "output_type": "stream",
     "text": [
      "Ejemplo: {'When did you receive the last treatment?': '0-4 weeks', 'province': 'Asturias', 'Have you previously suffered another type of cancer?': 'No', 'Was it a clinical trial about cancer?': 'Yes', 'cacheStatus': 2, 'country': 'SPAIN', 'Has developed any metastasis?': 'Yes', 'Have you been performed a biopsy of the diagnosed tumor?': 'No', 'city': 'Santullano', 'Currently, do you encounter any of the following diseases or conditions?': \"Basedow's disease (Grave's disase)\", 'birthday': '1972-01-01', 'lng': -5.7821242, 'gender': 'Woman', 'userProfile': 'Patient', 'Have you previously suffered any of the following diseases?': 'Severe respiratory disease and/or infection', 'count': 1, 'userId': 906, 'How many treatments in the metastasic setting have you received?': 'I have not received any', 'Of the treatments that you have received, please mark all the ones that you remember': 'Durvalumab', 'dianosticId': 2132, 'Have you ever participated in a clinical trial?': 'Yes', 'Have you had any antitumor treatments?': 'Yes', 'diagnosticCreatedDate': '2021-02-04', 'Has the metastasis spread to the liver?': 'Yes', 'Has the diagnosed cancer spread to the lymph nodes?': 'Yes', 'Have you been diagnosed with a brain metastasis?': 'Yes', 'Do you remember if you are taking any of the following medications?': 'I do not take any of the following', 'When was it diagnosed?': 'More than one year ago', 'Do you remember when did you participate in a clinical trial?': 'I have participated more than 4 weeks ago', 'Are the blood test values normal? (Mark those that have some type of mark or annotation)': 'ALT (SGPT)', 'lat': 43.226184, 'Mutation': 'I have not been diagnosed with any', 'In the last four weeks, have you had any major surgery or have you received a transplant?': 'No', 'ECOG': \"My daily activity is restricted and I spend some hours during the day in bed but I'm capable of all selfcare\", 'Have you had a blood test done within the last four weeks?': 'Yes', 'Have you relapsed after being treated?': None, 'Tumor type': 'Neuroendocrine', 'completePercent': 91, 'Has the metastasis spread to the bones?': 'No', 'userCreatedDate': '2021-02-04'}\n"
     ]
    }
   ],
   "source": [
    "print(\"Ejemplo:\", nuevo_json[0])\n"
   ]
  },
  {
   "cell_type": "code",
   "execution_count": 23,
   "metadata": {},
   "outputs": [
    {
     "name": "stdout",
     "output_type": "stream",
     "text": [
      "El archivo JSON ha sido modificado y guardado con éxito.\n"
     ]
    }
   ],
   "source": [
    "with open('/Users/agustinlopez/Repositories/TrialGPT/dataset/metabase_modificado3.json', 'w') as file:\n",
    "    json.dump(nuevo_json, file, ensure_ascii=False, indent=4)\n",
    "\n",
    "print(\"El archivo JSON ha sido modificado y guardado con éxito.\")\n"
   ]
  },
  {
   "cell_type": "markdown",
   "metadata": {},
   "source": [
    "# Hito 2"
   ]
  },
  {
   "cell_type": "markdown",
   "metadata": {},
   "source": [
    "## Keyword generation\n",
    "\n",
    "Actualizamos el código de ```keyword_generation.py``` a ```update_keyword_generation.py```, sin que use el archivo ```queries.jsonl```, ya que lo crearemos después de hacer esta generación de keywords. Ejecutaremos el comando ```python trialgpt_retrieval/update_keyword_generation.py metabase_modificado3.json gpt-4-turbo```."
   ]
  },
  {
   "cell_type": "markdown",
   "metadata": {},
   "source": [
    "# Hito 3"
   ]
  },
  {
   "cell_type": "markdown",
   "metadata": {},
   "source": [
    "## Creación del archivo ```queries.jsonl```\n",
    "\n",
    "Tras haber hecho el primer paso del retrieval usando ```update_keyword_generation.py``` y obteniendo ```retrieval_keywords_gpt-4-turbo_metabase_modificado3.json```, procedemos a crear ```queries.jsonl```. Lo creamos teniendo como referencia los otros archivos ```queries.jsonl``` del repositorio en ```sigir```, ```trec_2021```y ```trec_2022```."
   ]
  },
  {
   "cell_type": "code",
   "execution_count": 26,
   "metadata": {},
   "outputs": [],
   "source": [
    "input_file = \"/Users/agustinlopez/Repositories/TrialGPT/results/retrieval_keywords_gpt-4-turbo_metabase_modificado3.json\"\n",
    "\n",
    "output_file = \"/Users/agustinlopez/Repositories/TrialGPT/dataset/metabase/queries.jsonl\""
   ]
  },
  {
   "cell_type": "code",
   "execution_count": 27,
   "metadata": {},
   "outputs": [],
   "source": [
    "with open(input_file, \"r\") as f:\n",
    "    results = json.load(f)"
   ]
  },
  {
   "cell_type": "code",
   "execution_count": 28,
   "metadata": {},
   "outputs": [],
   "source": [
    "queries = []\n",
    "\n",
    "for qid, result in results.items():\n",
    "    query_text = result[\"summary\"]\n",
    "    queries.append({\"_id\": qid, \"text\": query_text})"
   ]
  },
  {
   "cell_type": "code",
   "execution_count": 29,
   "metadata": {},
   "outputs": [
    {
     "name": "stdout",
     "output_type": "stream",
     "text": [
      "Archivo /Users/agustinlopez/Repositories/TrialGPT/dataset/metabase/queries.jsonl generado exitosamente.\n"
     ]
    }
   ],
   "source": [
    "with open(output_file, \"w\") as f:\n",
    "    for query in queries:\n",
    "        json.dump(query, f)\n",
    "        f.write(\"\\n\")\n",
    "\n",
    "print(f\"Archivo {output_file} generado exitosamente.\")"
   ]
  },
  {
   "cell_type": "markdown",
   "metadata": {},
   "source": [
    "# Hito 4"
   ]
  },
  {
   "cell_type": "markdown",
   "metadata": {},
   "source": [
    "## Objetivo 3. Creación del archivo ```id2queries.json```"
   ]
  },
  {
   "cell_type": "code",
   "execution_count": 9,
   "metadata": {},
   "outputs": [],
   "source": [
    "def load_queries_jsonl(file_path):\n",
    "    id2text = {}\n",
    "    with open(file_path, 'r') as f:\n",
    "        for line in f:\n",
    "            entry = json.loads(line.strip())\n",
    "            _id = entry[\"_id\"]\n",
    "            text = entry[\"text\"]\n",
    "            id2text[_id] = text\n",
    "    return id2text\n",
    "\n",
    "def load_metabase_modificado(file_path):\n",
    "    with open(file_path, 'r') as f:\n",
    "        data = json.load(f)\n",
    "    return data"
   ]
  },
  {
   "cell_type": "code",
   "execution_count": 10,
   "metadata": {},
   "outputs": [],
   "source": [
    "queries_file = \"/Users/agustinlopez/Repositories/TrialGPT/dataset/metabase/queries.jsonl\"\n",
    "metabase_file = \"/Users/agustinlopez/Repositories/TrialGPT/results/retrieval_keywords_gpt-4-turbo_metabase_modificado3.json\""
   ]
  },
  {
   "cell_type": "code",
   "execution_count": 12,
   "metadata": {},
   "outputs": [],
   "source": [
    "id2text = load_queries_jsonl(queries_file)\n",
    "metabase_data = load_metabase_modificado(metabase_file)"
   ]
  },
  {
   "cell_type": "code",
   "execution_count": 13,
   "metadata": {},
   "outputs": [
    {
     "data": {
      "text/plain": [
       "{'2132': 'The patient is a woman from Santullano, Asturias, Spain, born in 1972, diagnosed with neuroendocrine cancer more than a year ago. She has participated in a cancer clinical trial and has undergone tumor removal but has not received any metastatic treatments. The cancer has metastasized to the liver, lymph nodes, and brain. She has a history of severe respiratory disease and/or infection, and she is a smoker. Her daily activity is restricted, and she spends some hours in bed but is capable of self-care. She has abnormal liver function tests (AST/SGOT, ALT/SGPT).',\n",
       " '2553': 'The patient is a woman from Zaragoza, Spain, born in 1971, diagnosed with breast cancer more than a year ago. She has participated in a clinical trial and has undergone multiple treatments including tumor removal. The cancer has metastasized to the brain and lymph nodes but not to the liver or bones. She has received three or more treatments in the metastatic setting and is currently pregnant. She has a slightly restricted daily activity level and has been treated with Denosumab. She has a PIK3CA mutation and has experienced a relapse after treatment.',\n",
       " '2624': 'The patient is a woman from Barcelona, Spain, diagnosed with cancer of the lip and oral cavity less than a month ago. She has a history of another type of cancer over 5 years ago and has participated in a cancer clinical trial. Recently, she has been treated with Lorlatinib and has developed brain metastasis but no metastasis to the liver or bones. She has undergone a biopsy of the diagnosed tumor and her daily activity level is completely normal.',\n",
       " '3030': 'The patient is a woman from Madrid, Spain, diagnosed with endometrial cancer more than a year ago. She has undergone tumor removal and has participated in a clinical trial. The cancer has metastasized to the liver, lymph nodes, and brain. She has received three or more treatments in the metastatic setting and has experienced a relapse after treatment. Her daily activities are slightly restricted, but she is able to perform light work.',\n",
       " '3033': 'The patient is a woman born on January 1, 1970, living in Málaga, Spain. She has been diagnosed with melanoma of the skin more than a year ago and is currently participating in a clinical trial. She has developed metastasis, including brain metastasis, but no metastasis to the liver or bones. The cancer has spread to the lymph nodes. She has undergone one treatment in the metastatic setting, specifically with Pembrolizumab. Her daily activities are slightly restricted, but she is able to perform light work. She has not undergone any major surgery or transplant in the last four weeks and her blood test values are within normal ranges.',\n",
       " '3133': 'The patient is a male from Barcelona, Spain, born in 1957, diagnosed with bronchus and lung cancer more than a year ago. He has participated in a clinical trial and is currently involved in one. The cancer has metastasized to the liver, lymph nodes, and brain. He has undergone tumor removal and received two treatments in the metastatic setting. Additionally, he has hypertension and an ALK mutation. His ECOG performance status indicates slight restriction in daily activities.',\n",
       " '3236': 'The patient is a 64-year-old male from Maracena, Granada, Spain, diagnosed with kidney cancer more than a year ago. He has metastasis to the lymph nodes but not to the liver, brain, or bones. He has diabetes and has participated in a clinical trial where he received atezolizumab. He has undergone two treatments for metastatic cancer and is currently participating in a clinical trial. His daily activities are slightly restricted, and he has abnormal hemoglobin levels.'}"
      ]
     },
     "execution_count": 13,
     "metadata": {},
     "output_type": "execute_result"
    }
   ],
   "source": [
    "id2text"
   ]
  },
  {
   "cell_type": "code",
   "execution_count": 14,
   "metadata": {},
   "outputs": [
    {
     "data": {
      "text/plain": [
       "dict_keys(['2132', '2553', '2624', '3030', '3033', '3133', '3236'])"
      ]
     },
     "execution_count": 14,
     "metadata": {},
     "output_type": "execute_result"
    }
   ],
   "source": [
    "metabase_data.keys()"
   ]
  },
  {
   "cell_type": "code",
   "execution_count": 15,
   "metadata": {},
   "outputs": [],
   "source": [
    "id2queries = {}\n",
    "\n",
    "for _id in metabase_data.keys():\n",
    "    raw_query = id2text.get(_id, \"\")\n",
    "    \n",
    "    gpt_4_turbo_summary = metabase_data[_id][\"summary\"]\n",
    "    gpt_4_turbo_conditions = metabase_data[_id][\"conditions\"]\n",
    "    \n",
    "    id2queries[_id] = {\n",
    "        \"raw\": raw_query,\n",
    "        \"gpt-4-turbo\": {\n",
    "            \"summary\": gpt_4_turbo_summary,\n",
    "            \"conditions\": gpt_4_turbo_conditions\n",
    "        }\n",
    "    }"
   ]
  },
  {
   "cell_type": "code",
   "execution_count": 16,
   "metadata": {},
   "outputs": [
    {
     "name": "stdout",
     "output_type": "stream",
     "text": [
      "Archivo /Users/agustinlopez/Repositories/TrialGPT/dataset/metabase/id2queries.json generado exitosamente.\n"
     ]
    }
   ],
   "source": [
    "output_file = \"/Users/agustinlopez/Repositories/TrialGPT/dataset/metabase/id2queries.json\"\n",
    "with open(output_file, \"w\") as f:\n",
    "    json.dump(id2queries, f, indent=4)\n",
    "\n",
    "print(f\"Archivo {output_file} generado exitosamente.\")"
   ]
  },
  {
   "cell_type": "markdown",
   "metadata": {},
   "source": [
    "# Hito 5"
   ]
  },
  {
   "cell_type": "markdown",
   "metadata": {},
   "source": [
    "## Descarga de trial_info.json\n",
    "\n",
    "Primeramente, obtenemos los distintos ensayos y sus campos. Esto lo podríamos sacar de igual manera desde la DB de Blissey pero los autores del paper ya parsean los datos de clinicaltrials.gov y lo obtenemos en ```trial_info.json```, tras ejecutar ```wget -O dataset/trial_info.json https://ftp.ncbi.nlm.nih.gov/pub/lu/TrialGPT/trial_info.json```."
   ]
  },
  {
   "cell_type": "code",
   "execution_count": null,
   "metadata": {},
   "outputs": [],
   "source": [
    "input_file = 'dataset/trial_info.json'"
   ]
  },
  {
   "cell_type": "markdown",
   "metadata": {},
   "source": [
    "# Hito 6"
   ]
  },
  {
   "cell_type": "markdown",
   "metadata": {},
   "source": [
    "## Creación del archivo corpus.jsonl\n",
    "\n",
    "Tras descargar ```trial_info.json```, lo limitamos a los ensayos que tenemos en Metabase y así poder hacer la comparativa entre este proceso LLM y nuestra codificación manual, además de reducir el tamaño muestral de ensayos y, así, reducir la carga computacional. También, le damos el formato adecuado tal y como podemos ver en ```corpus.jsonl``` de las muestras utilizadas por los autores del repositorio de TrialGPT."
   ]
  },
  {
   "cell_type": "markdown",
   "metadata": {},
   "source": [
    "## Limitación de los ensayos de Blissey a los ensayos de Metabase"
   ]
  },
  {
   "cell_type": "code",
   "execution_count": 24,
   "metadata": {},
   "outputs": [],
   "source": [
    "allowed_ncts = [\n",
    "    \"NCT03110107\", \"NCT03157128\", \"NCT03316638\", \"NCT03369223\", \"NCT03595059\",\n",
    "    \"NCT03783403\", \"NCT03821935\", \"NCT03893955\", \"NCT03917381\", \"NCT03922204\",\n",
    "    \"NCT04069026\", \"NCT04083599\", \"NCT04237649\", \"NCT04243499\", \"NCT04254107\",\n",
    "    \"NCT04303858\", \"NCT04336241\", \"NCT04423029\", \"NCT04458259\", \"NCT04644068\",\n",
    "    \"NCT04648202\", \"NCT04740424\", \"NCT04777994\", \"NCT04839991\", \"NCT04868877\",\n",
    "    \"NCT04958239\", \"NCT05029882\", \"NCT05180474\", \"NCT05194072\", \"NCT05216432\",\n",
    "    \"NCT05298592\", \"NCT05396833\", \"NCT03175224\", \"NCT03520075\", \"NCT03767075\",\n",
    "    \"NCT03833154\", \"NCT03974022\", \"NCT04032847\", \"NCT04077463\", \"NCT04185883\",\n",
    "    \"NCT04449874\", \"NCT04512430\", \"NCT04553692\", \"NCT04624204\", \"NCT04657068\",\n",
    "    \"NCT04699188\", \"NCT04772235\", \"NCT04886804\", \"NCT04913285\", \"NCT04919811\",\n",
    "    \"NCT05007782\", \"NCT05048797\", \"NCT05060432\", \"NCT05076396\", \"NCT05101265\",\n",
    "    \"NCT05117476\", \"NCT05132075\", \"NCT05142189\", \"NCT05176483\", \"NCT05209295\",\n",
    "    \"NCT05280314\", \"NCT05298423\", \"NCT05325866\", \"NCT05353257\", \"NCT05356741\",\n",
    "    \"NCT05384626\", \"NCT05498428\", \"NCT05527782\", \"NCT05565378\", \"NCT05614102\",\n",
    "    \"NCT05614739\", \"NCT05620134\", \"NCT05647122\", \"NCT05661578\", \"NCT05668585\",\n",
    "    \"NCT05684276\", \"NCT05694013\", \"NCT05718297\", \"NCT05765734\", \"NCT05765851\",\n",
    "    \"NCT05784012\", \"NCT05789069\", \"NCT05867121\", \"NCT05925530\", \"NCT05967689\",\n",
    "    \"NCT05980598\", \"NCT06331598\", \"NCT02264678\", \"NCT02817633\", \"NCT02912949\",\n",
    "    \"NCT03093116\", \"NCT03448042\", \"NCT03574779\", \"NCT03742895\", \"NCT03748186\",\n",
    "    \"NCT03781934\", \"NCT03872778\", \"NCT03964233\", \"NCT04009681\", \"NCT04053673\",\n",
    "    \"NCT04104776\", \"NCT04180371\", \"NCT04250155\", \"NCT04259450\", \"NCT04260529\",\n",
    "    \"NCT04278144\", \"NCT04300556\", \"NCT04417465\", \"NCT04442126\", \"NCT04455620\",\n",
    "    \"NCT04526106\", \"NCT04589845\", \"NCT04725474\", \"NCT04735978\", \"NCT04762602\",\n",
    "    \"NCT04799054\", \"NCT04855435\", \"NCT04855929\", \"NCT04857138\", \"NCT04901806\",\n",
    "    \"NCT04924075\", \"NCT04925284\", \"NCT04936178\", \"NCT04953897\", \"NCT04953910\",\n",
    "    \"NCT04983810\", \"NCT05002270\", \"NCT05013554\", \"NCT05052255\", \"NCT05063318\",\n",
    "    \"NCT05067283\", \"NCT05118789\", \"NCT05123482\", \"NCT05141474\", \"NCT05155332\",\n",
    "    \"NCT05159388\", \"NCT05242822\", \"NCT05262400\", \"NCT05262530\", \"NCT05307705\",\n",
    "    \"NCT05358379\", \"NCT05372367\", \"NCT05389462\", \"NCT05407675\", \"NCT05430555\",\n",
    "    \"NCT05435339\", \"NCT05443126\", \"NCT05471856\", \"NCT05480865\", \"NCT05489211\",\n",
    "    \"NCT05503797\", \"NCT05543629\", \"NCT05544552\", \"NCT05581719\", \"NCT05584670\",\n",
    "    \"NCT05732831\", \"NCT05797831\", \"NCT05826600\", \"NCT05835609\", \"NCT05839600\",\n",
    "    \"NCT05840224\", \"NCT05841563\", \"NCT05859464\", \"NCT05888831\", \"NCT05904496\",\n",
    "    \"NCT05940571\", \"NCT06039384\", \"NCT06130553\", \"NCT02568267\", \"NCT02576431\",\n",
    "    \"NCT03114319\", \"NCT03400332\", \"NCT03459222\", \"NCT03564691\", \"NCT03568656\",\n",
    "    \"NCT03600883\", \"NCT03645928\", \"NCT03656718\", \"NCT03733990\", \"NCT03761017\",\n",
    "    \"NCT03767348\", \"NCT03792724\", \"NCT03845166\", \"NCT03861793\", \"NCT03864042\",\n",
    "    \"NCT03894618\", \"NCT03918278\", \"NCT04044859\", \"NCT04083976\", \"NCT04095273\",\n",
    "    \"NCT04101357\", \"NCT04140500\", \"NCT04147234\", \"NCT04418661\", \"NCT04521686\",\n",
    "    \"NCT04564027\", \"NCT04639219\", \"NCT04759846\", \"NCT04808362\", \"NCT04830124\",\n",
    "    \"NCT04857372\", \"NCT04959266\", \"NCT04983238\", \"NCT05072106\", \"NCT05129280\",\n",
    "    \"NCT05155254\", \"NCT02628067\", \"NCT03319628\", \"NCT03396445\", \"NCT03530397\",\n",
    "    \"NCT03786484\", \"NCT04144140\", \"NCT04234113\", \"NCT04389632\", \"NCT04561362\",\n",
    "    \"NCT04564417\", \"NCT04642365\", \"NCT04665921\", \"NCT04802876\", \"NCT04914897\",\n",
    "    \"NCT04991740\", \"NCT05116891\", \"NCT05488314\"\n",
    "]"
   ]
  },
  {
   "cell_type": "code",
   "execution_count": 17,
   "metadata": {},
   "outputs": [],
   "source": [
    "input_file = 'dataset/trial_info.json'"
   ]
  },
  {
   "cell_type": "code",
   "execution_count": 20,
   "metadata": {},
   "outputs": [
    {
     "name": "stdout",
     "output_type": "stream",
     "text": [
      "/Users/agustinlopez/Repositories/TrialGPT\n"
     ]
    }
   ],
   "source": [
    "%cd .."
   ]
  },
  {
   "cell_type": "code",
   "execution_count": 21,
   "metadata": {},
   "outputs": [],
   "source": [
    "with open(input_file, \"r\") as f:\n",
    "    corpus = json.load(f)"
   ]
  },
  {
   "cell_type": "code",
   "execution_count": 32,
   "metadata": {},
   "outputs": [
    {
     "name": "stderr",
     "output_type": "stream",
     "text": [
      "Filtrando NCTs: 100%|██████████| 223/223 [00:00<00:00, 104798.86it/s]"
     ]
    },
    {
     "name": "stdout",
     "output_type": "stream",
     "text": [
      "Se han filtrado 207 entradas en filtered_data.\n"
     ]
    },
    {
     "name": "stderr",
     "output_type": "stream",
     "text": [
      "\n"
     ]
    }
   ],
   "source": [
    "from tqdm import tqdm\n",
    "\n",
    "filtered_data = {}\n",
    "\n",
    "for nct_id in tqdm(allowed_ncts, desc=\"Filtrando NCTs\"):\n",
    "    if nct_id in corpus:\n",
    "        filtered_data[nct_id] = corpus[nct_id]\n",
    "\n",
    "print(f\"Se han filtrado {len(filtered_data)} entradas en filtered_data.\")\n"
   ]
  },
  {
   "cell_type": "code",
   "execution_count": 33,
   "metadata": {},
   "outputs": [
    {
     "data": {
      "text/plain": [
       "dict"
      ]
     },
     "execution_count": 33,
     "metadata": {},
     "output_type": "execute_result"
    }
   ],
   "source": [
    "type(filtered_data)"
   ]
  },
  {
   "cell_type": "markdown",
   "metadata": {},
   "source": [
    "## Creación del diccionario corpus"
   ]
  },
  {
   "cell_type": "code",
   "execution_count": 38,
   "metadata": {},
   "outputs": [],
   "source": [
    "def dict_corpus2(row):\n",
    "    nct_id = row.get('nct_id', '')\n",
    "    title = row.get('official_title', '')\n",
    "    brief_title = row.get('brief_title', '')\n",
    "    phase = row.get('phase', '')\n",
    "    drugs = row.get('drugs', '')\n",
    "    drugs_list = row.get('drugs_list', [])\n",
    "    diseases = row.get('combined_condition', '')\n",
    "    diseases_list = row.get('combined_condition', [])\n",
    "    enrollment = str(row.get('enrollment', ''))\n",
    "    inclusion_criteria = row.get('inclusion_criteria', '')\n",
    "    exclusion_criteria = row.get('exclusion_criteria', '')\n",
    "    brief_summary = row.get('brief_summary', '')\n",
    "    criteria = row.get('criteria', '')\n",
    "    text = f\"{brief_summary} {inclusion_criteria} {exclusion_criteria}\"\n",
    "    \n",
    "    return {\n",
    "        \"_id\": str(nct_id),\n",
    "        \"title\": title,\n",
    "        \"text\": text,\n",
    "        \"metadata\": {\n",
    "            \"brief_title\": brief_title,\n",
    "            \"phase\": phase,\n",
    "            \"drugs\": drugs,\n",
    "            \"drugs_list\": drugs_list,\n",
    "            \"diseases\": diseases,\n",
    "            \"diseases_list\": diseases_list,\n",
    "            \"enrollment\": enrollment,\n",
    "            \"inclusion_criteria\": inclusion_criteria,\n",
    "            \"exclusion_criteria\": exclusion_criteria,\n",
    "            \"brief_summary\": brief_summary\n",
    "        }\n",
    "    }"
   ]
  },
  {
   "cell_type": "code",
   "execution_count": 40,
   "metadata": {},
   "outputs": [],
   "source": [
    "formatted_data = [dict_corpus2(data) for nct_id, data in filtered_data.items()]"
   ]
  },
  {
   "cell_type": "code",
   "execution_count": 41,
   "metadata": {},
   "outputs": [
    {
     "name": "stdout",
     "output_type": "stream",
     "text": [
      "Datos formateados guardados en results/corpus.jsonl\n"
     ]
    }
   ],
   "source": [
    "output_file = 'results/corpus.jsonl'\n",
    "with open(output_file, 'w') as f:\n",
    "    for entry in formatted_data:\n",
    "        f.write(json.dumps(entry) + '\\n')\n",
    "\n",
    "print(f\"Datos formateados guardados en {output_file}\")"
   ]
  },
  {
   "cell_type": "markdown",
   "metadata": {},
   "source": [
    "# Hito 7"
   ]
  },
  {
   "cell_type": "markdown",
   "metadata": {},
   "source": [
    "## Objetivo 4. Crear ```test.tsv```\n",
    "\n",
    "Creamos ```test.tsv```. La score utilizada es de 0, 1 ó 2. En nuestro caso, utilizaremos únicamente 0 si el NCT no matchea con el diagnosticID en Metabase, y 2 si matchea con el diagnosticID en Metabase. Esto lo hacemos manualmente."
   ]
  }
 ],
 "metadata": {
  "kernelspec": {
   "display_name": "Python 3",
   "language": "python",
   "name": "python3"
  },
  "language_info": {
   "codemirror_mode": {
    "name": "ipython",
    "version": 3
   },
   "file_extension": ".py",
   "mimetype": "text/x-python",
   "name": "python",
   "nbconvert_exporter": "python",
   "pygments_lexer": "ipython3",
   "version": "3.9.13"
  }
 },
 "nbformat": 4,
 "nbformat_minor": 2
}
